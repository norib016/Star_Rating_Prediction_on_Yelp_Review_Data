{
 "cells": [
  {
   "cell_type": "code",
   "execution_count": 1,
   "metadata": {},
   "outputs": [],
   "source": [
    "import pandas as pd\n",
    "import string\n",
    "import numpy as np\n",
    "import sklearn.metrics as metrics\n",
    "from nltk.corpus import stopwords\n",
    "from sklearn.feature_extraction.text import TfidfVectorizer\n",
    "from sklearn.model_selection import train_test_split\n",
    "from sklearn.naive_bayes import MultinomialNB\n",
    "from sklearn.linear_model import LogisticRegression\n",
    "from sklearn.metrics import confusion_matrix, classification_report, accuracy_score\n",
    "from nltk.tokenize import word_tokenize\n",
    "import nltk\n",
    "import gensim\n",
    "from gensim.models import Word2Vec\n",
    "from sklearn.ensemble import AdaBoostClassifier"
   ]
  },
  {
   "cell_type": "code",
   "execution_count": 2,
   "metadata": {},
   "outputs": [],
   "source": [
    "df = pd.read_csv('~/yelp_review.csv')"
   ]
  },
  {
   "cell_type": "code",
   "execution_count": 3,
   "metadata": {},
   "outputs": [],
   "source": [
    "df1 = df.sample(30000)"
   ]
  },
  {
   "cell_type": "code",
   "execution_count": 4,
   "metadata": {},
   "outputs": [],
   "source": [
    "stop = stopwords.words('english')"
   ]
  },
  {
   "cell_type": "code",
   "execution_count": 5,
   "metadata": {},
   "outputs": [],
   "source": [
    "df1['stopwords'] = df1['text'].apply(lambda x: len([x for x in x.split() if x in stop]))\n",
    "# df1[['text','stopwords']].head()\n",
    "df1['numerics'] = df1['text'].apply(lambda x: len([x for x in x.split() if x.isdigit()]))\n",
    "# df1[['text','numerics']].head()"
   ]
  },
  {
   "cell_type": "code",
   "execution_count": 6,
   "metadata": {},
   "outputs": [
    {
     "data": {
      "text/html": [
       "<div>\n",
       "<style scoped>\n",
       "    .dataframe tbody tr th:only-of-type {\n",
       "        vertical-align: middle;\n",
       "    }\n",
       "\n",
       "    .dataframe tbody tr th {\n",
       "        vertical-align: top;\n",
       "    }\n",
       "\n",
       "    .dataframe thead th {\n",
       "        text-align: right;\n",
       "    }\n",
       "</style>\n",
       "<table border=\"1\" class=\"dataframe\">\n",
       "  <thead>\n",
       "    <tr style=\"text-align: right;\">\n",
       "      <th></th>\n",
       "      <th>review_id</th>\n",
       "      <th>user_id</th>\n",
       "      <th>business_id</th>\n",
       "      <th>stars</th>\n",
       "      <th>date</th>\n",
       "      <th>text</th>\n",
       "      <th>useful</th>\n",
       "      <th>funny</th>\n",
       "      <th>cool</th>\n",
       "      <th>stopwords</th>\n",
       "      <th>numerics</th>\n",
       "      <th>text length</th>\n",
       "    </tr>\n",
       "  </thead>\n",
       "  <tbody>\n",
       "    <tr>\n",
       "      <th>5232093</th>\n",
       "      <td>DjO13mZAyE3i_IMpOb9BsQ</td>\n",
       "      <td>e5mmLYgJusshnfV1ThxY1A</td>\n",
       "      <td>LQZ2yBIAFmXYbDD0Z2Nhug</td>\n",
       "      <td>1</td>\n",
       "      <td>2017-10-09</td>\n",
       "      <td>Terrible staff and customer service. They act ...</td>\n",
       "      <td>0</td>\n",
       "      <td>0</td>\n",
       "      <td>0</td>\n",
       "      <td>15</td>\n",
       "      <td>0</td>\n",
       "      <td>175</td>\n",
       "    </tr>\n",
       "    <tr>\n",
       "      <th>1187587</th>\n",
       "      <td>dfLNPlgWb0BjftNd3fc0CQ</td>\n",
       "      <td>U44SEf8RPptWRJQiMJXd8g</td>\n",
       "      <td>lSsuhdM4-Awp3m6-PSrMmg</td>\n",
       "      <td>5</td>\n",
       "      <td>2016-01-06</td>\n",
       "      <td>Brought some friends here from out of town thi...</td>\n",
       "      <td>0</td>\n",
       "      <td>0</td>\n",
       "      <td>0</td>\n",
       "      <td>20</td>\n",
       "      <td>0</td>\n",
       "      <td>233</td>\n",
       "    </tr>\n",
       "    <tr>\n",
       "      <th>3859661</th>\n",
       "      <td>KiPZVaXdifldY4kt3eADSQ</td>\n",
       "      <td>ymwSwK2aUp0LKpEElvl5lg</td>\n",
       "      <td>e0CTLPxTnFEQSqQ1FJUqog</td>\n",
       "      <td>1</td>\n",
       "      <td>2015-03-24</td>\n",
       "      <td>Whatever you do, do not rent a car from this c...</td>\n",
       "      <td>0</td>\n",
       "      <td>0</td>\n",
       "      <td>0</td>\n",
       "      <td>188</td>\n",
       "      <td>4</td>\n",
       "      <td>2141</td>\n",
       "    </tr>\n",
       "    <tr>\n",
       "      <th>5095277</th>\n",
       "      <td>PmA2FBTfjPBYzMsR4lzWtA</td>\n",
       "      <td>zhT5MLTV4lyekxSQbqbT-w</td>\n",
       "      <td>BCSofuQwu1VE8wjzDaQ3qQ</td>\n",
       "      <td>5</td>\n",
       "      <td>2017-10-20</td>\n",
       "      <td>What a great find! Terrific cocktails. Superb ...</td>\n",
       "      <td>0</td>\n",
       "      <td>0</td>\n",
       "      <td>0</td>\n",
       "      <td>24</td>\n",
       "      <td>0</td>\n",
       "      <td>368</td>\n",
       "    </tr>\n",
       "    <tr>\n",
       "      <th>4871188</th>\n",
       "      <td>LHHf1fC3mkBYcor3zrf2yQ</td>\n",
       "      <td>t5vmjQB0ZqhzvO9oRE2hDg</td>\n",
       "      <td>mW97sJ9JVjs_REfp6XjRhQ</td>\n",
       "      <td>3</td>\n",
       "      <td>2016-01-24</td>\n",
       "      <td>As a lot of the previous reviews states althou...</td>\n",
       "      <td>1</td>\n",
       "      <td>0</td>\n",
       "      <td>0</td>\n",
       "      <td>50</td>\n",
       "      <td>0</td>\n",
       "      <td>537</td>\n",
       "    </tr>\n",
       "  </tbody>\n",
       "</table>\n",
       "</div>"
      ],
      "text/plain": [
       "                      review_id                 user_id  \\\n",
       "5232093  DjO13mZAyE3i_IMpOb9BsQ  e5mmLYgJusshnfV1ThxY1A   \n",
       "1187587  dfLNPlgWb0BjftNd3fc0CQ  U44SEf8RPptWRJQiMJXd8g   \n",
       "3859661  KiPZVaXdifldY4kt3eADSQ  ymwSwK2aUp0LKpEElvl5lg   \n",
       "5095277  PmA2FBTfjPBYzMsR4lzWtA  zhT5MLTV4lyekxSQbqbT-w   \n",
       "4871188  LHHf1fC3mkBYcor3zrf2yQ  t5vmjQB0ZqhzvO9oRE2hDg   \n",
       "\n",
       "                    business_id  stars        date  \\\n",
       "5232093  LQZ2yBIAFmXYbDD0Z2Nhug      1  2017-10-09   \n",
       "1187587  lSsuhdM4-Awp3m6-PSrMmg      5  2016-01-06   \n",
       "3859661  e0CTLPxTnFEQSqQ1FJUqog      1  2015-03-24   \n",
       "5095277  BCSofuQwu1VE8wjzDaQ3qQ      5  2017-10-20   \n",
       "4871188  mW97sJ9JVjs_REfp6XjRhQ      3  2016-01-24   \n",
       "\n",
       "                                                      text  useful  funny  \\\n",
       "5232093  Terrible staff and customer service. They act ...       0      0   \n",
       "1187587  Brought some friends here from out of town thi...       0      0   \n",
       "3859661  Whatever you do, do not rent a car from this c...       0      0   \n",
       "5095277  What a great find! Terrific cocktails. Superb ...       0      0   \n",
       "4871188  As a lot of the previous reviews states althou...       1      0   \n",
       "\n",
       "         cool  stopwords  numerics  text length  \n",
       "5232093     0         15         0          175  \n",
       "1187587     0         20         0          233  \n",
       "3859661     0        188         4         2141  \n",
       "5095277     0         24         0          368  \n",
       "4871188     0         50         0          537  "
      ]
     },
     "execution_count": 6,
     "metadata": {},
     "output_type": "execute_result"
    }
   ],
   "source": [
    "df1['text length'] = df1['text'].apply(len)\n",
    "df1.head()"
   ]
  },
  {
   "cell_type": "code",
   "execution_count": 7,
   "metadata": {},
   "outputs": [
    {
     "data": {
      "text/html": [
       "<div>\n",
       "<style scoped>\n",
       "    .dataframe tbody tr th:only-of-type {\n",
       "        vertical-align: middle;\n",
       "    }\n",
       "\n",
       "    .dataframe tbody tr th {\n",
       "        vertical-align: top;\n",
       "    }\n",
       "\n",
       "    .dataframe thead th {\n",
       "        text-align: right;\n",
       "    }\n",
       "</style>\n",
       "<table border=\"1\" class=\"dataframe\">\n",
       "  <thead>\n",
       "    <tr style=\"text-align: right;\">\n",
       "      <th></th>\n",
       "      <th>text</th>\n",
       "      <th>stars</th>\n",
       "    </tr>\n",
       "  </thead>\n",
       "  <tbody>\n",
       "    <tr>\n",
       "      <th>5232093</th>\n",
       "      <td>Terrible staff and customer service. They act ...</td>\n",
       "      <td>1</td>\n",
       "    </tr>\n",
       "    <tr>\n",
       "      <th>1187587</th>\n",
       "      <td>Brought some friends here from out of town thi...</td>\n",
       "      <td>5</td>\n",
       "    </tr>\n",
       "    <tr>\n",
       "      <th>3859661</th>\n",
       "      <td>Whatever you do, do not rent a car from this c...</td>\n",
       "      <td>1</td>\n",
       "    </tr>\n",
       "    <tr>\n",
       "      <th>5095277</th>\n",
       "      <td>What a great find! Terrific cocktails. Superb ...</td>\n",
       "      <td>5</td>\n",
       "    </tr>\n",
       "    <tr>\n",
       "      <th>4871188</th>\n",
       "      <td>As a lot of the previous reviews states althou...</td>\n",
       "      <td>3</td>\n",
       "    </tr>\n",
       "  </tbody>\n",
       "</table>\n",
       "</div>"
      ],
      "text/plain": [
       "                                                      text  stars\n",
       "5232093  Terrible staff and customer service. They act ...      1\n",
       "1187587  Brought some friends here from out of town thi...      5\n",
       "3859661  Whatever you do, do not rent a car from this c...      1\n",
       "5095277  What a great find! Terrific cocktails. Superb ...      5\n",
       "4871188  As a lot of the previous reviews states althou...      3"
      ]
     },
     "execution_count": 7,
     "metadata": {},
     "output_type": "execute_result"
    }
   ],
   "source": [
    "df2 = df1[['text','stars']].copy()\n",
    "df2.head()"
   ]
  },
  {
   "cell_type": "code",
   "execution_count": 8,
   "metadata": {},
   "outputs": [],
   "source": [
    "df2['text'] = df2['text'].str.lower()"
   ]
  },
  {
   "cell_type": "code",
   "execution_count": 9,
   "metadata": {},
   "outputs": [
    {
     "name": "stdout",
     "output_type": "stream",
     "text": [
      "CPU times: user 37.5 s, sys: 513 ms, total: 38 s\n",
      "Wall time: 39.2 s\n"
     ]
    }
   ],
   "source": [
    "%%time\n",
    "df2['token_text'] = df2.text.apply(lambda x: word_tokenize(x))"
   ]
  },
  {
   "cell_type": "code",
   "execution_count": 10,
   "metadata": {},
   "outputs": [],
   "source": [
    "def clean(text):\n",
    "    cleaned = [w for w in text if w not in stop]\n",
    "    cleaned = [w for w in cleaned if w not in string.punctuation]\n",
    "    return ' '.join(cleaned)"
   ]
  },
  {
   "cell_type": "code",
   "execution_count": 11,
   "metadata": {},
   "outputs": [
    {
     "name": "stdout",
     "output_type": "stream",
     "text": [
      "CPU times: user 8.42 s, sys: 84.1 ms, total: 8.5 s\n",
      "Wall time: 8.77 s\n"
     ]
    }
   ],
   "source": [
    "%%time\n",
    "df2['clean_text'] = df2['token_text'].apply(clean)\n",
    "df2['text'] = df2['clean_text']\n",
    "df2.drop(['clean_text','token_text'],1,inplace=True)"
   ]
  },
  {
   "cell_type": "code",
   "execution_count": 12,
   "metadata": {},
   "outputs": [
    {
     "data": {
      "text/html": [
       "<div>\n",
       "<style scoped>\n",
       "    .dataframe tbody tr th:only-of-type {\n",
       "        vertical-align: middle;\n",
       "    }\n",
       "\n",
       "    .dataframe tbody tr th {\n",
       "        vertical-align: top;\n",
       "    }\n",
       "\n",
       "    .dataframe thead th {\n",
       "        text-align: right;\n",
       "    }\n",
       "</style>\n",
       "<table border=\"1\" class=\"dataframe\">\n",
       "  <thead>\n",
       "    <tr style=\"text-align: right;\">\n",
       "      <th></th>\n",
       "      <th>text</th>\n",
       "      <th>stars</th>\n",
       "    </tr>\n",
       "  </thead>\n",
       "  <tbody>\n",
       "    <tr>\n",
       "      <th>5232093</th>\n",
       "      <td>terrible staff customer service act like favor...</td>\n",
       "      <td>1</td>\n",
       "    </tr>\n",
       "    <tr>\n",
       "      <th>1187587</th>\n",
       "      <td>brought friends town week tell best wings 've ...</td>\n",
       "      <td>5</td>\n",
       "    </tr>\n",
       "    <tr>\n",
       "      <th>3859661</th>\n",
       "      <td>whatever rent car company may look like gettin...</td>\n",
       "      <td>1</td>\n",
       "    </tr>\n",
       "    <tr>\n",
       "      <th>5095277</th>\n",
       "      <td>great find terrific cocktails superb music pla...</td>\n",
       "      <td>5</td>\n",
       "    </tr>\n",
       "    <tr>\n",
       "      <th>4871188</th>\n",
       "      <td>lot previous reviews states although chicken g...</td>\n",
       "      <td>3</td>\n",
       "    </tr>\n",
       "  </tbody>\n",
       "</table>\n",
       "</div>"
      ],
      "text/plain": [
       "                                                      text  stars\n",
       "5232093  terrible staff customer service act like favor...      1\n",
       "1187587  brought friends town week tell best wings 've ...      5\n",
       "3859661  whatever rent car company may look like gettin...      1\n",
       "5095277  great find terrific cocktails superb music pla...      5\n",
       "4871188  lot previous reviews states although chicken g...      3"
      ]
     },
     "execution_count": 12,
     "metadata": {},
     "output_type": "execute_result"
    }
   ],
   "source": [
    "df2.head()"
   ]
  },
  {
   "cell_type": "code",
   "execution_count": 13,
   "metadata": {},
   "outputs": [
    {
     "name": "stdout",
     "output_type": "stream",
     "text": [
      "CPU times: user 2.1 s, sys: 59.8 ms, total: 2.16 s\n",
      "Wall time: 2.21 s\n"
     ]
    }
   ],
   "source": [
    "%%time\n",
    "cv = TfidfVectorizer(min_df=5)\n",
    "X = cv.fit_transform(df2.text)"
   ]
  },
  {
   "cell_type": "code",
   "execution_count": 14,
   "metadata": {},
   "outputs": [
    {
     "name": "stdout",
     "output_type": "stream",
     "text": [
      "CPU times: user 833 ms, sys: 1.23 s, total: 2.07 s\n",
      "Wall time: 2.94 s\n"
     ]
    }
   ],
   "source": [
    "%%time\n",
    "features = pd.DataFrame(X.toarray(),columns=cv.get_feature_names())"
   ]
  },
  {
   "cell_type": "code",
   "execution_count": 15,
   "metadata": {},
   "outputs": [
    {
     "name": "stdout",
     "output_type": "stream",
     "text": [
      "CPU times: user 5min 23s, sys: 8.14 s, total: 5min 31s\n",
      "Wall time: 2min 56s\n"
     ]
    },
    {
     "name": "stderr",
     "output_type": "stream",
     "text": [
      "/Users/anshulgoyal/anaconda3/lib/python3.7/site-packages/sklearn/linear_model/_logistic.py:939: ConvergenceWarning: lbfgs failed to converge (status=1):\n",
      "STOP: TOTAL NO. of ITERATIONS REACHED LIMIT.\n",
      "\n",
      "Increase the number of iterations (max_iter) or scale the data as shown in:\n",
      "    https://scikit-learn.org/stable/modules/preprocessing.html.\n",
      "Please also refer to the documentation for alternative solver options:\n",
      "    https://scikit-learn.org/stable/modules/linear_model.html#logistic-regression\n",
      "  extra_warning_msg=_LOGISTIC_SOLVER_CONVERGENCE_MSG)\n"
     ]
    }
   ],
   "source": [
    "%%time\n",
    "xtr1,xts1,ytr1,yts1 = train_test_split(features,df2.stars)\n",
    "lr = LogisticRegression()\n",
    "lr.fit(xtr1,ytr1)"
   ]
  },
  {
   "cell_type": "code",
   "execution_count": 16,
   "metadata": {},
   "outputs": [],
   "source": [
    "preds_lr1 = lr.predict(xts1)"
   ]
  },
  {
   "cell_type": "code",
   "execution_count": 17,
   "metadata": {},
   "outputs": [
    {
     "data": {
      "text/plain": [
       "0.6237333333333334"
      ]
     },
     "execution_count": 17,
     "metadata": {},
     "output_type": "execute_result"
    }
   ],
   "source": [
    "accuracy_score(yts1,preds_lr1)"
   ]
  },
  {
   "cell_type": "code",
   "execution_count": 18,
   "metadata": {},
   "outputs": [],
   "source": [
    "wv = gensim.models.KeyedVectors.load_word2vec_format(\"GoogleNews-vectors-negative300.bin\", binary=True)\n",
    "wv.init_sims(replace=True)"
   ]
  },
  {
   "cell_type": "code",
   "execution_count": 19,
   "metadata": {},
   "outputs": [],
   "source": [
    "stopwords = nltk.corpus.stopwords.words('english')"
   ]
  },
  {
   "cell_type": "code",
   "execution_count": 20,
   "metadata": {},
   "outputs": [
    {
     "name": "stdout",
     "output_type": "stream",
     "text": [
      "CPU times: user 38min 44s, sys: 3min 29s, total: 42min 13s\n",
      "Wall time: 42min 41s\n"
     ]
    }
   ],
   "source": [
    "%%time\n",
    "# 30000 sample size\n",
    "docs_vectors = pd.DataFrame()\n",
    "\n",
    "for doc in df2['text'].str.replace('\\d+', ''):\n",
    "    temp = pd.DataFrame()   \n",
    "    for word in doc.split(' '): \n",
    "        if word not in stopwords: \n",
    "            try:\n",
    "                word_vec = wv[word]  \n",
    "                temp = temp.append(pd.Series(word_vec), ignore_index = True)  \n",
    "            except:\n",
    "                pass\n",
    "    doc_vector = temp.mean()\n",
    "    docs_vectors = docs_vectors.append(doc_vector, ignore_index = True) \n",
    "docs_vectors.shape"
   ]
  },
  {
   "cell_type": "code",
   "execution_count": 21,
   "metadata": {},
   "outputs": [
    {
     "data": {
      "text/plain": [
       "(30000, 300)"
      ]
     },
     "execution_count": 21,
     "metadata": {},
     "output_type": "execute_result"
    }
   ],
   "source": [
    "docs_vectors.shape"
   ]
  },
  {
   "cell_type": "code",
   "execution_count": 22,
   "metadata": {},
   "outputs": [],
   "source": [
    "docs_vectors['stars'] = list(df2.stars)"
   ]
  },
  {
   "cell_type": "code",
   "execution_count": 23,
   "metadata": {},
   "outputs": [],
   "source": [
    "docs_vectors = docs_vectors.dropna()"
   ]
  },
  {
   "cell_type": "code",
   "execution_count": 24,
   "metadata": {},
   "outputs": [
    {
     "data": {
      "text/plain": [
       "0"
      ]
     },
     "execution_count": 24,
     "metadata": {},
     "output_type": "execute_result"
    }
   ],
   "source": [
    "pd.isnull(docs_vectors).sum().sum()"
   ]
  },
  {
   "cell_type": "code",
   "execution_count": 25,
   "metadata": {},
   "outputs": [],
   "source": [
    "vectors = docs_vectors.drop(['stars'],1)\n",
    "stars = docs_vectors['stars']"
   ]
  },
  {
   "cell_type": "code",
   "execution_count": 26,
   "metadata": {},
   "outputs": [],
   "source": [
    "xtr,xts,ytr,yts = train_test_split(vectors,stars)"
   ]
  },
  {
   "cell_type": "code",
   "execution_count": 27,
   "metadata": {},
   "outputs": [
    {
     "name": "stdout",
     "output_type": "stream",
     "text": [
      "CPU times: user 7.42 s, sys: 300 ms, total: 7.72 s\n",
      "Wall time: 4.44 s\n"
     ]
    },
    {
     "name": "stderr",
     "output_type": "stream",
     "text": [
      "/Users/anshulgoyal/anaconda3/lib/python3.7/site-packages/sklearn/linear_model/_logistic.py:939: ConvergenceWarning: lbfgs failed to converge (status=1):\n",
      "STOP: TOTAL NO. of ITERATIONS REACHED LIMIT.\n",
      "\n",
      "Increase the number of iterations (max_iter) or scale the data as shown in:\n",
      "    https://scikit-learn.org/stable/modules/preprocessing.html.\n",
      "Please also refer to the documentation for alternative solver options:\n",
      "    https://scikit-learn.org/stable/modules/linear_model.html#logistic-regression\n",
      "  extra_warning_msg=_LOGISTIC_SOLVER_CONVERGENCE_MSG)\n"
     ]
    }
   ],
   "source": [
    "%%time\n",
    "lr = LogisticRegression()\n",
    "lr.fit(xtr,ytr)"
   ]
  },
  {
   "cell_type": "code",
   "execution_count": 28,
   "metadata": {},
   "outputs": [],
   "source": [
    "preds_lr = lr.predict(xts)"
   ]
  },
  {
   "cell_type": "code",
   "execution_count": 29,
   "metadata": {},
   "outputs": [
    {
     "data": {
      "text/plain": [
       "0.5828777170289372"
      ]
     },
     "execution_count": 29,
     "metadata": {},
     "output_type": "execute_result"
    }
   ],
   "source": [
    "accuracy_score(yts,preds_lr)"
   ]
  },
  {
   "cell_type": "code",
   "execution_count": 30,
   "metadata": {},
   "outputs": [
    {
     "name": "stdout",
     "output_type": "stream",
     "text": [
      "CPU times: user 50.3 s, sys: 302 ms, total: 50.6 s\n",
      "Wall time: 52.3 s\n"
     ]
    }
   ],
   "source": [
    "%%time\n",
    "ad = AdaBoostClassifier()\n",
    "ad.fit(xtr,ytr)"
   ]
  },
  {
   "cell_type": "code",
   "execution_count": 31,
   "metadata": {},
   "outputs": [],
   "source": [
    "preds_ad = ad.predict(xts)"
   ]
  },
  {
   "cell_type": "code",
   "execution_count": 32,
   "metadata": {},
   "outputs": [
    {
     "data": {
      "text/plain": [
       "0.5351380184024537"
      ]
     },
     "execution_count": 32,
     "metadata": {},
     "output_type": "execute_result"
    }
   ],
   "source": [
    "accuracy_score(yts,preds_ad)"
   ]
  },
  {
   "cell_type": "code",
   "execution_count": null,
   "metadata": {},
   "outputs": [],
   "source": []
  }
 ],
 "metadata": {
  "kernelspec": {
   "display_name": "Python 3",
   "language": "python",
   "name": "python3"
  },
  "language_info": {
   "codemirror_mode": {
    "name": "ipython",
    "version": 3
   },
   "file_extension": ".py",
   "mimetype": "text/x-python",
   "name": "python",
   "nbconvert_exporter": "python",
   "pygments_lexer": "ipython3",
   "version": "3.7.3"
  }
 },
 "nbformat": 4,
 "nbformat_minor": 2
}
